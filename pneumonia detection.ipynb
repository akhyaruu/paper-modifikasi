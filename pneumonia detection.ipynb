{
 "cells": [
  {
   "cell_type": "markdown",
   "metadata": {},
   "source": [
    "# Import Packages"
   ]
  },
  {
   "cell_type": "code",
   "execution_count": 1,
   "metadata": {},
   "outputs": [],
   "source": [
    "# suport\n",
    "import pandas as pd\n",
    "import numpy as np\n",
    "import seaborn as sn\n",
    "from sklearn.model_selection import train_test_split\n",
    "import matplotlib.pyplot as plt\n",
    "# model\n",
    "from sklearn.multiclass import OneVsRestClassifier\n",
    "from sklearn.svm import LinearSVC\n",
    "from sklearn import tree\n",
    "from sklearn.linear_model import LogisticRegression\n",
    "from sklearn.ensemble import GradientBoostingClassifier\n",
    "from sklearn.neighbors import KNeighborsClassifier\n",
    "# evaluasi\n",
    "from sklearn.metrics import precision_recall_fscore_support\n",
    "from sklearn.metrics import accuracy_score\n",
    "from sklearn.model_selection import cross_val_score\n",
    "from sklearn.model_selection import KFold\n",
    "from sklearn.metrics import confusion_matrix"
   ]
  },
  {
   "cell_type": "code",
   "execution_count": 2,
   "metadata": {},
   "outputs": [],
   "source": [
    "import warnings\n",
    "warnings.filterwarnings('ignore')"
   ]
  },
  {
   "cell_type": "markdown",
   "metadata": {},
   "source": [
    "# Persiapan"
   ]
  },
  {
   "cell_type": "code",
   "execution_count": 3,
   "metadata": {
    "tags": []
   },
   "outputs": [],
   "source": [
    "# membaca dataset\n",
    "dataset = pd.read_excel('dataset2.xlsx',converters={'Medical result（0 No；1 mild；2 severe）':int})\n",
    "\n",
    "# mengisi kolom yg kosong dengan 0\n",
    "col_set = dataset.columns\n",
    "for column in col_set :\n",
    "    dataset[column].fillna(0, inplace = True)\n",
    "\n",
    "# memisahkan kelas yang akan diklasifikasikan dengan fitur\n",
    "X = dataset.iloc[:,:-1]\n",
    "y = dataset['Medical result（0 No；1 mild；2 severe）']\n",
    "X_train, X_test, Y_train, Y_test = train_test_split(X, y, test_size=0.1, random_state=1)"
   ]
  },
  {
   "cell_type": "markdown",
   "metadata": {},
   "source": [
    "# Hasil Bawaan"
   ]
  },
  {
   "cell_type": "markdown",
   "metadata": {},
   "source": [
    "## Inisialisasi Model"
   ]
  },
  {
   "cell_type": "code",
   "execution_count": 4,
   "metadata": {},
   "outputs": [],
   "source": [
    "# Decision Tree Classifier\n",
    "model_tree = OneVsRestClassifier(tree.DecisionTreeClassifier())\n",
    "\n",
    "# Logistics Regression Classifier\n",
    "model_logistic = OneVsRestClassifier(LogisticRegression(penalty='l2'))\n",
    "\n",
    "# Gradient Boosting Decision Tree Classifier\n",
    "model_GBDT = OneVsRestClassifier(GradientBoostingClassifier(n_estimators=300))\n",
    "\n",
    "# Support Vector CLassifier\n",
    "model_SVC = OneVsRestClassifier(LinearSVC(random_state = 0))"
   ]
  },
  {
   "cell_type": "markdown",
   "metadata": {},
   "source": [
    "## Fitting dan Predict Model"
   ]
  },
  {
   "cell_type": "code",
   "execution_count": 5,
   "metadata": {},
   "outputs": [],
   "source": [
    "# Decision Tree Classifier\n",
    "model_tree.fit(X_train,Y_train)\n",
    "y_predict_tree = model_tree.predict(X_test)\n",
    "\n",
    "# Logistics Regression Classifier\n",
    "model_logistic.fit(X_train,Y_train)\n",
    "y_predict_logistic = model_logistic.predict(X_test)\n",
    "\n",
    "# Gradient Boosting Decision Tree Classifier\n",
    "model_GBDT.fit(X_train,Y_train)\n",
    "y_predict_GBDT = model_GBDT.predict(X_test)\n",
    "\n",
    "# Support Vector CLassifier\n",
    "model_SVC.fit(X_train,Y_train)\n",
    "y_predict_SVC = model_SVC.predict(X_test)"
   ]
  },
  {
   "cell_type": "code",
   "execution_count": 6,
   "metadata": {},
   "outputs": [
    {
     "data": {
      "text/plain": [
       "0.6105263157894737"
      ]
     },
     "execution_count": 6,
     "metadata": {},
     "output_type": "execute_result"
    }
   ],
   "source": [
    "model_knn =OneVsRestClassifier(KNeighborsClassifier())\n",
    "y_predict_knn = model_knn.fit(X_train,Y_train).predict(X_test)\n",
    "\n",
    "np.mean(y_predict_knn==Y_test)"
   ]
  },
  {
   "cell_type": "markdown",
   "metadata": {},
   "source": [
    "## Evaluasi\n",
    "\n",
    "### Precision Recall Fscore dan Support"
   ]
  },
  {
   "cell_type": "code",
   "execution_count": 7,
   "metadata": {},
   "outputs": [
    {
     "data": {
      "text/plain": [
       "(array([1.        , 0.91071429, 0.70833333]),\n",
       " array([0.75      , 0.91071429, 0.89473684]),\n",
       " array([0.85714286, 0.91071429, 0.79069767]),\n",
       " array([20, 56, 19], dtype=int64))"
      ]
     },
     "execution_count": 7,
     "metadata": {},
     "output_type": "execute_result"
    }
   ],
   "source": [
    "# Decision Tree Classifier\n",
    "precision_recall_fscore_support(Y_test, y_predict_tree, average=None)"
   ]
  },
  {
   "cell_type": "code",
   "execution_count": 8,
   "metadata": {},
   "outputs": [
    {
     "data": {
      "text/plain": [
       "(array([0.6875    , 0.70422535, 0.625     ]),\n",
       " array([0.55      , 0.89285714, 0.26315789]),\n",
       " array([0.61111111, 0.78740157, 0.37037037]),\n",
       " array([20, 56, 19], dtype=int64))"
      ]
     },
     "execution_count": 8,
     "metadata": {},
     "output_type": "execute_result"
    }
   ],
   "source": [
    "# Logistics Regression Classifier\n",
    "precision_recall_fscore_support(Y_test, y_predict_logistic, average=None)"
   ]
  },
  {
   "cell_type": "code",
   "execution_count": 9,
   "metadata": {},
   "outputs": [
    {
     "data": {
      "text/plain": [
       "(array([0.85714286, 0.92982456, 1.        ]),\n",
       " array([0.9       , 0.94642857, 0.89473684]),\n",
       " array([0.87804878, 0.9380531 , 0.94444444]),\n",
       " array([20, 56, 19], dtype=int64))"
      ]
     },
     "execution_count": 9,
     "metadata": {},
     "output_type": "execute_result"
    }
   ],
   "source": [
    "# Gradient Boosting Decision Tree Classifier\n",
    "precision_recall_fscore_support(Y_test, y_predict_GBDT, average=None)"
   ]
  },
  {
   "cell_type": "code",
   "execution_count": 10,
   "metadata": {},
   "outputs": [
    {
     "data": {
      "text/plain": [
       "(array([0.875     , 0.63855422, 0.5       ]),\n",
       " array([0.35      , 0.94642857, 0.10526316]),\n",
       " array([0.5       , 0.76258993, 0.17391304]),\n",
       " array([20, 56, 19], dtype=int64))"
      ]
     },
     "execution_count": 10,
     "metadata": {},
     "output_type": "execute_result"
    }
   ],
   "source": [
    "# Support Vector CLassifier\n",
    "precision_recall_fscore_support(Y_test, y_predict_SVC, average=None)"
   ]
  },
  {
   "cell_type": "code",
   "execution_count": 11,
   "metadata": {},
   "outputs": [
    {
     "data": {
      "text/plain": [
       "(array([0.55555556, 0.64864865, 0.41666667]),\n",
       " array([0.25      , 0.85714286, 0.26315789]),\n",
       " array([0.34482759, 0.73846154, 0.32258065]),\n",
       " array([20, 56, 19], dtype=int64))"
      ]
     },
     "execution_count": 11,
     "metadata": {},
     "output_type": "execute_result"
    }
   ],
   "source": [
    "precision_recall_fscore_support(Y_test, y_predict_knn, average=None)"
   ]
  },
  {
   "cell_type": "markdown",
   "metadata": {},
   "source": [
    "### Akurasi"
   ]
  },
  {
   "cell_type": "code",
   "execution_count": 12,
   "metadata": {},
   "outputs": [],
   "source": [
    "acc = {'Decision Tree': np.mean(y_predict_tree == Y_test),'Logistics': np.mean(y_predict_logistic == Y_test), 'GBDT': np.mean(y_predict_GBDT == Y_test), 'SVC': np.mean(y_predict_SVC == Y_test)}"
   ]
  },
  {
   "cell_type": "code",
   "execution_count": 13,
   "metadata": {},
   "outputs": [
    {
     "data": {
      "text/plain": [
       "{'Decision Tree': 0.8736842105263158,\n",
       " 'Logistics': 0.6947368421052632,\n",
       " 'GBDT': 0.9263157894736842,\n",
       " 'SVC': 0.6526315789473685}"
      ]
     },
     "execution_count": 13,
     "metadata": {},
     "output_type": "execute_result"
    }
   ],
   "source": [
    "# nilai akurasi rata2 tiap kelas\n",
    "acc"
   ]
  },
  {
   "cell_type": "markdown",
   "metadata": {},
   "source": [
    "### K-fold Cross Validation"
   ]
  },
  {
   "cell_type": "code",
   "execution_count": 14,
   "metadata": {},
   "outputs": [
    {
     "name": "stdout",
     "output_type": "stream",
     "text": [
      "Baseline: 80.00% (5.16%)\n"
     ]
    }
   ],
   "source": [
    "# Decision Tree Classifier\n",
    "kfold = KFold(n_splits=5, shuffle=True)\n",
    "results = cross_val_score(model_tree, X_test,Y_test, cv=kfold)\n",
    "print(\"Baseline: %.2f%% (%.2f%%)\" % (results.mean()*100, results.std()*100))"
   ]
  },
  {
   "cell_type": "code",
   "execution_count": 15,
   "metadata": {},
   "outputs": [
    {
     "name": "stdout",
     "output_type": "stream",
     "text": [
      "Baseline: 66.32% (5.37%)\n"
     ]
    }
   ],
   "source": [
    "kfold = KFold(n_splits=5, shuffle=True)\n",
    "results = cross_val_score(model_logistic, X_test,Y_test, cv=kfold)\n",
    "print(\"Baseline: %.2f%% (%.2f%%)\" % (results.mean()*100, results.std()*100))"
   ]
  },
  {
   "cell_type": "code",
   "execution_count": 16,
   "metadata": {},
   "outputs": [
    {
     "name": "stdout",
     "output_type": "stream",
     "text": [
      "Baseline: 80.00% (5.16%)\n"
     ]
    }
   ],
   "source": [
    "kfold = KFold(n_splits=5, shuffle=True)\n",
    "results = cross_val_score(model_GBDT, X_test,Y_test, cv=kfold)\n",
    "print(\"Baseline: %.2f%% (%.2f%%)\" % (results.mean()*100, results.std()*100))"
   ]
  },
  {
   "cell_type": "code",
   "execution_count": 17,
   "metadata": {},
   "outputs": [
    {
     "name": "stdout",
     "output_type": "stream",
     "text": [
      "Baseline: 43.16% (18.65%)\n"
     ]
    }
   ],
   "source": [
    "kfold = KFold(n_splits=5, shuffle=True)\n",
    "results = cross_val_score(model_SVC, X_test,Y_test, cv=kfold)\n",
    "print(\"Baseline: %.2f%% (%.2f%%)\" % (results.mean()*100, results.std()*100))"
   ]
  },
  {
   "cell_type": "markdown",
   "metadata": {},
   "source": [
    "### Confusion Matrix"
   ]
  },
  {
   "cell_type": "code",
   "execution_count": 18,
   "metadata": {},
   "outputs": [],
   "source": [
    "cm_tree = confusion_matrix(Y_test, y_predict_tree, labels=[0,1,2])\n",
    "cm_logistic = confusion_matrix(Y_test, y_predict_logistic, labels=[0,1,2])\n",
    "cm_GBDT = confusion_matrix(Y_test, y_predict_GBDT, labels=[0,1,2])\n",
    "cm_SVC = confusion_matrix(Y_test, y_predict_SVC, labels=[0,1,2])"
   ]
  },
  {
   "cell_type": "code",
   "execution_count": 19,
   "metadata": {},
   "outputs": [
    {
     "data": {
      "image/png": "[encoded data removed]",
      "text/plain": [
       "<Figure size 720x504 with 2 Axes>"
      ]
     },
     "metadata": {
      "needs_background": "light"
     },
     "output_type": "display_data"
    }
   ],
   "source": [
    "# Decision Tree\n",
    "df_cm = pd.DataFrame(cm_tree, index = [i for i in \"012\"],\n",
    "                  columns = [i for i in \"012\"])\n",
    "plt.figure(figsize = (10,7))\n",
    "ax = sn.heatmap(df_cm, annot=True)\n",
    "bottom, top = ax.get_ylim()\n",
    "ax.set_ylim(bottom + 0.5, top - 0.5)\n",
    "plt.title('Confusion Matrix for Decision Tree Model')\n",
    "plt.ylabel('True')\n",
    "plt.xlabel('Predicted')\n",
    "plt.savefig('confusion_matrix_tree_150', dpi = 150)\n",
    "plt.savefig('confusion_matrix_tree_600', dpi = 600)\n",
    "plt.show()"
   ]
  },
  {
   "cell_type": "code",
   "execution_count": 20,
   "metadata": {},
   "outputs": [
    {
     "data": {
      "image/png": "[encoded data removed]",
      "text/plain": [
       "<Figure size 720x504 with 2 Axes>"
      ]
     },
     "metadata": {
      "needs_background": "light"
     },
     "output_type": "display_data"
    }
   ],
   "source": [
    "# logistic Regression\n",
    "df_cm = pd.DataFrame(cm_logistic, index = [i for i in \"012\"],\n",
    "                  columns = [i for i in \"012\"])\n",
    "plt.figure(figsize = (10,7))\n",
    "ax = sn.heatmap(df_cm, annot=True)\n",
    "bottom, top = ax.get_ylim()\n",
    "ax.set_ylim(bottom + 0.5, top - 0.5)\n",
    "plt.title('Confusion Matrix for Logistic Regression')\n",
    "plt.ylabel('True')\n",
    "plt.xlabel('Predicted')\n",
    "plt.savefig('confusion_matrix_logistic_150', dpi = 150)\n",
    "plt.savefig('confusion_matrix_logistic_600', dpi = 600)\n",
    "plt.show()"
   ]
  },
  {
   "cell_type": "code",
   "execution_count": 21,
   "metadata": {},
   "outputs": [
    {
     "data": {
      "image/png": "[encoded data removed]",
      "text/plain": [
       "<Figure size 720x504 with 2 Axes>"
      ]
     },
     "metadata": {
      "needs_background": "light"
     },
     "output_type": "display_data"
    }
   ],
   "source": [
    "# GBDT\n",
    "df_cm = pd.DataFrame(cm_GBDT, index = [i for i in \"012\"],\n",
    "                  columns = [i for i in \"012\"])\n",
    "plt.figure(figsize = (10,7))\n",
    "ax = sn.heatmap(df_cm, annot=True)\n",
    "bottom, top = ax.get_ylim()\n",
    "ax.set_ylim(bottom + 0.5, top - 0.5)\n",
    "plt.title('Confusion Matrix for GBDT')\n",
    "plt.ylabel('True')\n",
    "plt.xlabel('Predicted')\n",
    "plt.savefig('confusion_matrix_GBDT_150', dpi = 150)\n",
    "plt.savefig('confusion_matrix_GBDT_600', dpi = 600)\n",
    "plt.show()"
   ]
  },
  {
   "cell_type": "code",
   "execution_count": 22,
   "metadata": {},
   "outputs": [
    {
     "data": {
      "image/png": "[encoded data removed]",
      "text/plain": [
       "<Figure size 720x504 with 2 Axes>"
      ]
     },
     "metadata": {
      "needs_background": "light"
     },
     "output_type": "display_data"
    }
   ],
   "source": [
    "# SVC\n",
    "df_cm = pd.DataFrame(cm_SVC, index = [i for i in \"012\"],\n",
    "                  columns = [i for i in \"012\"])\n",
    "plt.figure(figsize = (10,7))\n",
    "ax = sn.heatmap(df_cm, annot=True)\n",
    "bottom, top = ax.get_ylim()\n",
    "ax.set_ylim(bottom + 0.5, top - 0.5)\n",
    "plt.title('Confusion Matrix for SVC')\n",
    "plt.ylabel('True')\n",
    "plt.xlabel('Predicted')\n",
    "plt.savefig('confusion_matrix_SVC_150', dpi = 150)\n",
    "plt.savefig('confusion_matrix_SVC_600', dpi = 600)\n",
    "plt.show()"
   ]
  },
  {
   "cell_type": "markdown",
   "metadata": {},
   "source": [
    "## Feature Importance"
   ]
  },
  {
   "cell_type": "code",
   "execution_count": 23,
   "metadata": {},
   "outputs": [],
   "source": [
    "importances = model_tree.estimators_[1].feature_importances_\n",
    "std = np.std([tree.feature_importances_ for tree in model_tree.estimators_],\n",
    "             axis=0)\n",
    "importance_map = {'importance': importances, 'standard deviation': std}\n",
    "importance_df = pd.DataFrame(importance_map, columns = ['importance', 'standard deviation'], index = X.columns)\n",
    "importance_df = importance_df.sort_values('importance', ascending= False)"
   ]
  },
  {
   "cell_type": "code",
   "execution_count": 24,
   "metadata": {},
   "outputs": [
    {
     "data": {
      "text/html": [
       "<div>\n",
       "<style scoped>\n",
       "    .dataframe tbody tr th:only-of-type {\n",
       "        vertical-align: middle;\n",
       "    }\n",
       "\n",
       "    .dataframe tbody tr th {\n",
       "        vertical-align: top;\n",
       "    }\n",
       "\n",
       "    .dataframe thead th {\n",
       "        text-align: right;\n",
       "    }\n",
       "</style>\n",
       "<table border=\"1\" class=\"dataframe\">\n",
       "  <thead>\n",
       "    <tr style=\"text-align: right;\">\n",
       "      <th></th>\n",
       "      <th>importance</th>\n",
       "      <th>standard deviation</th>\n",
       "    </tr>\n",
       "  </thead>\n",
       "  <tbody>\n",
       "    <tr>\n",
       "      <th>Three Concave Sign（&lt;=1/3 is mild；1：multiple lobar involvement are severe）：1 mild；2 severe</th>\n",
       "      <td>0.560946</td>\n",
       "      <td>0.116145</td>\n",
       "    </tr>\n",
       "    <tr>\n",
       "      <th>Cough Nature：0 without cough；1dry cough；2 phlegmy cough</th>\n",
       "      <td>0.080738</td>\n",
       "      <td>0.049550</td>\n",
       "    </tr>\n",
       "    <tr>\n",
       "      <th>CREA(Creatinine)(Umol/L）</th>\n",
       "      <td>0.045576</td>\n",
       "      <td>0.019019</td>\n",
       "    </tr>\n",
       "    <tr>\n",
       "      <th>Pleural Effusion：0 NO；1YES</th>\n",
       "      <td>0.044424</td>\n",
       "      <td>0.036235</td>\n",
       "    </tr>\n",
       "    <tr>\n",
       "      <th>Moist Crackles：0 NO；1 Left；2 Right；3 Two sides</th>\n",
       "      <td>0.041961</td>\n",
       "      <td>0.022563</td>\n",
       "    </tr>\n",
       "  </tbody>\n",
       "</table>\n",
       "</div>"
      ],
      "text/plain": [
       "                                                    importance  \\\n",
       "Three Concave Sign（<=1/3 is mild；1：multiple lob...    0.560946   \n",
       "Cough Nature：0 without cough；1dry cough；2 phleg...    0.080738   \n",
       "CREA(Creatinine)(Umol/L）                              0.045576   \n",
       "Pleural Effusion：0 NO；1YES                            0.044424   \n",
       "Moist Crackles：0 NO；1 Left；2 Right；3 Two sides        0.041961   \n",
       "\n",
       "                                                    standard deviation  \n",
       "Three Concave Sign（<=1/3 is mild；1：multiple lob...            0.116145  \n",
       "Cough Nature：0 without cough；1dry cough；2 phleg...            0.049550  \n",
       "CREA(Creatinine)(Umol/L）                                      0.019019  \n",
       "Pleural Effusion：0 NO；1YES                                    0.036235  \n",
       "Moist Crackles：0 NO；1 Left；2 Right；3 Two sides                0.022563  "
      ]
     },
     "execution_count": 24,
     "metadata": {},
     "output_type": "execute_result"
    }
   ],
   "source": [
    "importance_df.head()"
   ]
  },
  {
   "cell_type": "code",
   "execution_count": 25,
   "metadata": {},
   "outputs": [],
   "source": [
    "importances = model_GBDT.estimators_[1].feature_importances_\n",
    "std = np.std([tree.feature_importances_ for tree in model_GBDT.estimators_],\n",
    "             axis=0)\n",
    "importance_map = {'importance': importances, 'standard deviation': std}\n",
    "importance_df = pd.DataFrame(importance_map, columns = ['importance', 'standard deviation'], index = X.columns)\n",
    "importance_df = importance_df.sort_values('importance', ascending= False)"
   ]
  },
  {
   "cell_type": "code",
   "execution_count": 26,
   "metadata": {},
   "outputs": [
    {
     "data": {
      "text/html": [
       "<div>\n",
       "<style scoped>\n",
       "    .dataframe tbody tr th:only-of-type {\n",
       "        vertical-align: middle;\n",
       "    }\n",
       "\n",
       "    .dataframe tbody tr th {\n",
       "        vertical-align: top;\n",
       "    }\n",
       "\n",
       "    .dataframe thead th {\n",
       "        text-align: right;\n",
       "    }\n",
       "</style>\n",
       "<table border=\"1\" class=\"dataframe\">\n",
       "  <thead>\n",
       "    <tr style=\"text-align: right;\">\n",
       "      <th></th>\n",
       "      <th>importance</th>\n",
       "      <th>standard deviation</th>\n",
       "    </tr>\n",
       "  </thead>\n",
       "  <tbody>\n",
       "    <tr>\n",
       "      <th>Three Concave Sign（&lt;=1/3 is mild；1：multiple lobar involvement are severe）：1 mild；2 severe</th>\n",
       "      <td>0.592672</td>\n",
       "      <td>0.096436</td>\n",
       "    </tr>\n",
       "    <tr>\n",
       "      <th>Cough Nature：0 without cough；1dry cough；2 phlegmy cough</th>\n",
       "      <td>0.095554</td>\n",
       "      <td>0.052787</td>\n",
       "    </tr>\n",
       "    <tr>\n",
       "      <th>Pleural Effusion：0 NO；1YES</th>\n",
       "      <td>0.049189</td>\n",
       "      <td>0.036576</td>\n",
       "    </tr>\n",
       "    <tr>\n",
       "      <th>Rhonchus or Wheeze：0 NO；1Left；2 right；3 two sides</th>\n",
       "      <td>0.045223</td>\n",
       "      <td>0.025099</td>\n",
       "    </tr>\n",
       "    <tr>\n",
       "      <th>Moist Crackles：0 NO；1 Left；2 Right；3 Two sides</th>\n",
       "      <td>0.039699</td>\n",
       "      <td>0.026998</td>\n",
       "    </tr>\n",
       "  </tbody>\n",
       "</table>\n",
       "</div>"
      ],
      "text/plain": [
       "                                                    importance  \\\n",
       "Three Concave Sign（<=1/3 is mild；1：multiple lob...    0.592672   \n",
       "Cough Nature：0 without cough；1dry cough；2 phleg...    0.095554   \n",
       "Pleural Effusion：0 NO；1YES                            0.049189   \n",
       "Rhonchus or Wheeze：0 NO；1Left；2 right；3 two sides     0.045223   \n",
       "Moist Crackles：0 NO；1 Left；2 Right；3 Two sides        0.039699   \n",
       "\n",
       "                                                    standard deviation  \n",
       "Three Concave Sign（<=1/3 is mild；1：multiple lob...            0.096436  \n",
       "Cough Nature：0 without cough；1dry cough；2 phleg...            0.052787  \n",
       "Pleural Effusion：0 NO；1YES                                    0.036576  \n",
       "Rhonchus or Wheeze：0 NO；1Left；2 right；3 two sides             0.025099  \n",
       "Moist Crackles：0 NO；1 Left；2 Right；3 Two sides                0.026998  "
      ]
     },
     "execution_count": 26,
     "metadata": {},
     "output_type": "execute_result"
    }
   ],
   "source": [
    "importance_df.head()"
   ]
  },
  {
   "cell_type": "markdown",
   "metadata": {},
   "source": [
    "# Hasil Percobaan"
   ]
  },
  {
   "cell_type": "markdown",
   "metadata": {},
   "source": [
    "## Import Package"
   ]
  },
  {
   "cell_type": "code",
   "execution_count": 43,
   "metadata": {},
   "outputs": [],
   "source": [
    "from sklearn.model_selection import GridSearchCV\n",
    "from sklearn.model_selection import RandomizedSearchCV"
   ]
  },
  {
   "cell_type": "markdown",
   "metadata": {},
   "source": [
    "## Setting Parameter"
   ]
  },
  {
   "cell_type": "code",
   "execution_count": 39,
   "metadata": {},
   "outputs": [],
   "source": [
    "paramtree = [{'criterion': ['gini', 'entropy'], 'max_depth': [10, 15, 20, 25, 30]}]\n",
    "paramlr = [{'solver': ['newton-cg', 'lbfgs', 'liblinear', 'sag', 'saga'], 'penalty': ['l1', 'l2', 'elasticnet', 'none'], 'C': [100, 10, 1.0, 0.1, 0.01]}]\n",
    "paramgbdt = [{'learning_rate': [0.001, 0.01, 0.1, 0.3], 'n_estimators': [10, 100, 1000]}]\n",
    "paramsvc = [{'C': [100, 10, 1.0, 0.1, 0.001]}]"
   ]
  },
  {
   "cell_type": "markdown",
   "metadata": {},
   "source": [
    "# Dengan Grid Search"
   ]
  },
  {
   "cell_type": "code",
   "execution_count": 59,
   "metadata": {},
   "outputs": [
    {
     "ename": "KeyboardInterrupt",
     "evalue": "",
     "output_type": "error",
     "traceback": [
      "\u001b[1;31m---------------------------------------------------------------------------\u001b[0m",
      "\u001b[1;31mKeyboardInterrupt\u001b[0m                         Traceback (most recent call last)",
      "\u001b[1;32m~\\AppData\\Local\\Temp/ipykernel_20708/1255836610.py\u001b[0m in \u001b[0;36m<module>\u001b[1;34m\u001b[0m\n\u001b[0;32m      9\u001b[0m \u001b[1;31m# Gradient Boosting Decision Tree Classifier\u001b[0m\u001b[1;33m\u001b[0m\u001b[1;33m\u001b[0m\u001b[1;33m\u001b[0m\u001b[0m\n\u001b[0;32m     10\u001b[0m \u001b[0mgs3\u001b[0m \u001b[1;33m=\u001b[0m \u001b[0mGridSearchCV\u001b[0m\u001b[1;33m(\u001b[0m\u001b[0mGradientBoostingClassifier\u001b[0m\u001b[1;33m(\u001b[0m\u001b[1;33m)\u001b[0m\u001b[1;33m,\u001b[0m \u001b[0mparamgbdt\u001b[0m\u001b[1;33m,\u001b[0m \u001b[0mscoring\u001b[0m\u001b[1;33m=\u001b[0m\u001b[1;34m'accuracy'\u001b[0m\u001b[1;33m)\u001b[0m\u001b[1;33m\u001b[0m\u001b[1;33m\u001b[0m\u001b[0m\n\u001b[1;32m---> 11\u001b[1;33m \u001b[0mgs3\u001b[0m\u001b[1;33m.\u001b[0m\u001b[0mfit\u001b[0m\u001b[1;33m(\u001b[0m\u001b[0mX_train\u001b[0m\u001b[1;33m,\u001b[0m \u001b[0mY_train\u001b[0m\u001b[1;33m)\u001b[0m\u001b[1;33m\u001b[0m\u001b[1;33m\u001b[0m\u001b[0m\n\u001b[0m\u001b[0;32m     12\u001b[0m \u001b[1;33m\u001b[0m\u001b[0m\n\u001b[0;32m     13\u001b[0m \u001b[1;31m# Support Vector CLassifier\u001b[0m\u001b[1;33m\u001b[0m\u001b[1;33m\u001b[0m\u001b[1;33m\u001b[0m\u001b[0m\n",
      "\u001b[1;32m~\\anaconda3\\lib\\site-packages\\sklearn\\utils\\validation.py\u001b[0m in \u001b[0;36minner_f\u001b[1;34m(*args, **kwargs)\u001b[0m\n\u001b[0;32m     61\u001b[0m             \u001b[0mextra_args\u001b[0m \u001b[1;33m=\u001b[0m \u001b[0mlen\u001b[0m\u001b[1;33m(\u001b[0m\u001b[0margs\u001b[0m\u001b[1;33m)\u001b[0m \u001b[1;33m-\u001b[0m \u001b[0mlen\u001b[0m\u001b[1;33m(\u001b[0m\u001b[0mall_args\u001b[0m\u001b[1;33m)\u001b[0m\u001b[1;33m\u001b[0m\u001b[1;33m\u001b[0m\u001b[0m\n\u001b[0;32m     62\u001b[0m             \u001b[1;32mif\u001b[0m \u001b[0mextra_args\u001b[0m \u001b[1;33m<=\u001b[0m \u001b[1;36m0\u001b[0m\u001b[1;33m:\u001b[0m\u001b[1;33m\u001b[0m\u001b[1;33m\u001b[0m\u001b[0m\n\u001b[1;32m---> 63\u001b[1;33m                 \u001b[1;32mreturn\u001b[0m \u001b[0mf\u001b[0m\u001b[1;33m(\u001b[0m\u001b[1;33m*\u001b[0m\u001b[0margs\u001b[0m\u001b[1;33m,\u001b[0m \u001b[1;33m**\u001b[0m\u001b[0mkwargs\u001b[0m\u001b[1;33m)\u001b[0m\u001b[1;33m\u001b[0m\u001b[1;33m\u001b[0m\u001b[0m\n\u001b[0m\u001b[0;32m     64\u001b[0m \u001b[1;33m\u001b[0m\u001b[0m\n\u001b[0;32m     65\u001b[0m             \u001b[1;31m# extra_args > 0\u001b[0m\u001b[1;33m\u001b[0m\u001b[1;33m\u001b[0m\u001b[1;33m\u001b[0m\u001b[0m\n",
      "\u001b[1;32m~\\anaconda3\\lib\\site-packages\\sklearn\\model_selection\\_search.py\u001b[0m in \u001b[0;36mfit\u001b[1;34m(self, X, y, groups, **fit_params)\u001b[0m\n\u001b[0;32m    878\u001b[0m             \u001b[0mrefit_start_time\u001b[0m \u001b[1;33m=\u001b[0m \u001b[0mtime\u001b[0m\u001b[1;33m.\u001b[0m\u001b[0mtime\u001b[0m\u001b[1;33m(\u001b[0m\u001b[1;33m)\u001b[0m\u001b[1;33m\u001b[0m\u001b[1;33m\u001b[0m\u001b[0m\n\u001b[0;32m    879\u001b[0m             \u001b[1;32mif\u001b[0m \u001b[0my\u001b[0m \u001b[1;32mis\u001b[0m \u001b[1;32mnot\u001b[0m \u001b[1;32mNone\u001b[0m\u001b[1;33m:\u001b[0m\u001b[1;33m\u001b[0m\u001b[1;33m\u001b[0m\u001b[0m\n\u001b[1;32m--> 880\u001b[1;33m                 \u001b[0mself\u001b[0m\u001b[1;33m.\u001b[0m\u001b[0mbest_estimator_\u001b[0m\u001b[1;33m.\u001b[0m\u001b[0mfit\u001b[0m\u001b[1;33m(\u001b[0m\u001b[0mX\u001b[0m\u001b[1;33m,\u001b[0m \u001b[0my\u001b[0m\u001b[1;33m,\u001b[0m \u001b[1;33m**\u001b[0m\u001b[0mfit_params\u001b[0m\u001b[1;33m)\u001b[0m\u001b[1;33m\u001b[0m\u001b[1;33m\u001b[0m\u001b[0m\n\u001b[0m\u001b[0;32m    881\u001b[0m             \u001b[1;32melse\u001b[0m\u001b[1;33m:\u001b[0m\u001b[1;33m\u001b[0m\u001b[1;33m\u001b[0m\u001b[0m\n\u001b[0;32m    882\u001b[0m                 \u001b[0mself\u001b[0m\u001b[1;33m.\u001b[0m\u001b[0mbest_estimator_\u001b[0m\u001b[1;33m.\u001b[0m\u001b[0mfit\u001b[0m\u001b[1;33m(\u001b[0m\u001b[0mX\u001b[0m\u001b[1;33m,\u001b[0m \u001b[1;33m**\u001b[0m\u001b[0mfit_params\u001b[0m\u001b[1;33m)\u001b[0m\u001b[1;33m\u001b[0m\u001b[1;33m\u001b[0m\u001b[0m\n",
      "\u001b[1;32m~\\anaconda3\\lib\\site-packages\\sklearn\\ensemble\\_gb.py\u001b[0m in \u001b[0;36mfit\u001b[1;34m(self, X, y, sample_weight, monitor)\u001b[0m\n\u001b[0;32m    502\u001b[0m \u001b[1;33m\u001b[0m\u001b[0m\n\u001b[0;32m    503\u001b[0m         \u001b[1;31m# fit the boosting stages\u001b[0m\u001b[1;33m\u001b[0m\u001b[1;33m\u001b[0m\u001b[1;33m\u001b[0m\u001b[0m\n\u001b[1;32m--> 504\u001b[1;33m         n_stages = self._fit_stages(\n\u001b[0m\u001b[0;32m    505\u001b[0m             \u001b[0mX\u001b[0m\u001b[1;33m,\u001b[0m \u001b[0my\u001b[0m\u001b[1;33m,\u001b[0m \u001b[0mraw_predictions\u001b[0m\u001b[1;33m,\u001b[0m \u001b[0msample_weight\u001b[0m\u001b[1;33m,\u001b[0m \u001b[0mself\u001b[0m\u001b[1;33m.\u001b[0m\u001b[0m_rng\u001b[0m\u001b[1;33m,\u001b[0m \u001b[0mX_val\u001b[0m\u001b[1;33m,\u001b[0m \u001b[0my_val\u001b[0m\u001b[1;33m,\u001b[0m\u001b[1;33m\u001b[0m\u001b[1;33m\u001b[0m\u001b[0m\n\u001b[0;32m    506\u001b[0m             sample_weight_val, begin_at_stage, monitor)\n",
      "\u001b[1;32m~\\anaconda3\\lib\\site-packages\\sklearn\\ensemble\\_gb.py\u001b[0m in \u001b[0;36m_fit_stages\u001b[1;34m(self, X, y, raw_predictions, sample_weight, random_state, X_val, y_val, sample_weight_val, begin_at_stage, monitor)\u001b[0m\n\u001b[0;32m    559\u001b[0m \u001b[1;33m\u001b[0m\u001b[0m\n\u001b[0;32m    560\u001b[0m             \u001b[1;31m# fit next stage of trees\u001b[0m\u001b[1;33m\u001b[0m\u001b[1;33m\u001b[0m\u001b[1;33m\u001b[0m\u001b[0m\n\u001b[1;32m--> 561\u001b[1;33m             raw_predictions = self._fit_stage(\n\u001b[0m\u001b[0;32m    562\u001b[0m                 \u001b[0mi\u001b[0m\u001b[1;33m,\u001b[0m \u001b[0mX\u001b[0m\u001b[1;33m,\u001b[0m \u001b[0my\u001b[0m\u001b[1;33m,\u001b[0m \u001b[0mraw_predictions\u001b[0m\u001b[1;33m,\u001b[0m \u001b[0msample_weight\u001b[0m\u001b[1;33m,\u001b[0m \u001b[0msample_mask\u001b[0m\u001b[1;33m,\u001b[0m\u001b[1;33m\u001b[0m\u001b[1;33m\u001b[0m\u001b[0m\n\u001b[0;32m    563\u001b[0m                 random_state, X_csc, X_csr)\n",
      "\u001b[1;32m~\\anaconda3\\lib\\site-packages\\sklearn\\ensemble\\_gb.py\u001b[0m in \u001b[0;36m_fit_stage\u001b[1;34m(self, i, X, y, raw_predictions, sample_weight, sample_mask, random_state, X_csc, X_csr)\u001b[0m\n\u001b[0;32m    212\u001b[0m \u001b[1;33m\u001b[0m\u001b[0m\n\u001b[0;32m    213\u001b[0m             \u001b[0mX\u001b[0m \u001b[1;33m=\u001b[0m \u001b[0mX_csr\u001b[0m \u001b[1;32mif\u001b[0m \u001b[0mX_csr\u001b[0m \u001b[1;32mis\u001b[0m \u001b[1;32mnot\u001b[0m \u001b[1;32mNone\u001b[0m \u001b[1;32melse\u001b[0m \u001b[0mX\u001b[0m\u001b[1;33m\u001b[0m\u001b[1;33m\u001b[0m\u001b[0m\n\u001b[1;32m--> 214\u001b[1;33m             tree.fit(X, residual, sample_weight=sample_weight,\n\u001b[0m\u001b[0;32m    215\u001b[0m                      check_input=False)\n\u001b[0;32m    216\u001b[0m \u001b[1;33m\u001b[0m\u001b[0m\n",
      "\u001b[1;32m~\\anaconda3\\lib\\site-packages\\sklearn\\tree\\_classes.py\u001b[0m in \u001b[0;36mfit\u001b[1;34m(self, X, y, sample_weight, check_input, X_idx_sorted)\u001b[0m\n\u001b[0;32m   1250\u001b[0m         \"\"\"\n\u001b[0;32m   1251\u001b[0m \u001b[1;33m\u001b[0m\u001b[0m\n\u001b[1;32m-> 1252\u001b[1;33m         super().fit(\n\u001b[0m\u001b[0;32m   1253\u001b[0m             \u001b[0mX\u001b[0m\u001b[1;33m,\u001b[0m \u001b[0my\u001b[0m\u001b[1;33m,\u001b[0m\u001b[1;33m\u001b[0m\u001b[1;33m\u001b[0m\u001b[0m\n\u001b[0;32m   1254\u001b[0m             \u001b[0msample_weight\u001b[0m\u001b[1;33m=\u001b[0m\u001b[0msample_weight\u001b[0m\u001b[1;33m,\u001b[0m\u001b[1;33m\u001b[0m\u001b[1;33m\u001b[0m\u001b[0m\n",
      "\u001b[1;32m~\\anaconda3\\lib\\site-packages\\sklearn\\tree\\_classes.py\u001b[0m in \u001b[0;36mfit\u001b[1;34m(self, X, y, sample_weight, check_input, X_idx_sorted)\u001b[0m\n\u001b[0;32m    392\u001b[0m                                            min_impurity_split)\n\u001b[0;32m    393\u001b[0m \u001b[1;33m\u001b[0m\u001b[0m\n\u001b[1;32m--> 394\u001b[1;33m         \u001b[0mbuilder\u001b[0m\u001b[1;33m.\u001b[0m\u001b[0mbuild\u001b[0m\u001b[1;33m(\u001b[0m\u001b[0mself\u001b[0m\u001b[1;33m.\u001b[0m\u001b[0mtree_\u001b[0m\u001b[1;33m,\u001b[0m \u001b[0mX\u001b[0m\u001b[1;33m,\u001b[0m \u001b[0my\u001b[0m\u001b[1;33m,\u001b[0m \u001b[0msample_weight\u001b[0m\u001b[1;33m)\u001b[0m\u001b[1;33m\u001b[0m\u001b[1;33m\u001b[0m\u001b[0m\n\u001b[0m\u001b[0;32m    395\u001b[0m \u001b[1;33m\u001b[0m\u001b[0m\n\u001b[0;32m    396\u001b[0m         \u001b[1;32mif\u001b[0m \u001b[0mself\u001b[0m\u001b[1;33m.\u001b[0m\u001b[0mn_outputs_\u001b[0m \u001b[1;33m==\u001b[0m \u001b[1;36m1\u001b[0m \u001b[1;32mand\u001b[0m \u001b[0mis_classifier\u001b[0m\u001b[1;33m(\u001b[0m\u001b[0mself\u001b[0m\u001b[1;33m)\u001b[0m\u001b[1;33m:\u001b[0m\u001b[1;33m\u001b[0m\u001b[1;33m\u001b[0m\u001b[0m\n",
      "\u001b[1;31mKeyboardInterrupt\u001b[0m: "
     ]
    }
   ],
   "source": [
    "# Decision Tree Classifier\n",
    "gs1 = GridSearchCV(tree.DecisionTreeClassifier(), paramtree, scoring='accuracy')\n",
    "gs1.fit(X_train, Y_train)\n",
    "\n",
    "# Logistics Regression Classifier\n",
    "gs2 = GridSearchCV(LogisticRegression(), paramlr, scoring='accuracy')\n",
    "gs2.fit(X_train, Y_train)\n",
    "\n",
    "# Gradient Boosting Decision Tree Classifier\n",
    "gs3 = GridSearchCV(GradientBoostingClassifier(), paramgbdt, scoring='accuracy')\n",
    "gs3.fit(X_train, Y_train)\n",
    "\n",
    "# Support Vector CLassifier\n",
    "gs4 = GridSearchCV(LinearSVC(), paramsvc, scoring='accuracy')\n",
    "gs4.fit(X_train, Y_train)"
   ]
  },
  {
   "cell_type": "markdown",
   "metadata": {},
   "source": [
    "## Parameter Terbaik"
   ]
  },
  {
   "cell_type": "code",
   "execution_count": 55,
   "metadata": {},
   "outputs": [
    {
     "name": "stdout",
     "output_type": "stream",
     "text": [
      "{'criterion': 'entropy', 'max_depth': 20}\n",
      "{'C': 1.0, 'penalty': 'l2', 'solver': 'newton-cg'}\n",
      "{'learning_rate': 0.01, 'n_estimators': 1000}\n",
      "{'C': 0.001}\n"
     ]
    }
   ],
   "source": [
    "print(gs1.best_params_) # DT\n",
    "print(gs2.best_params_) # LR\n",
    "print(gs3.best_params_) # GBDT\n",
    "print(gs4.best_params_) # SVM"
   ]
  },
  {
   "cell_type": "markdown",
   "metadata": {},
   "source": [
    "## Inisialisasi Model"
   ]
  },
  {
   "cell_type": "code",
   "execution_count": 48,
   "metadata": {},
   "outputs": [],
   "source": [
    "# Decision Tree Classifier\n",
    "treegs = OneVsRestClassifier(tree.DecisionTreeClassifier(criterion='entropy', max_depth=20)).fit(X_train,Y_train)\n",
    "hasiltreegs = treegs.predict(X_test)\n",
    "\n",
    "# Logistics Regression Classifier\n",
    "logisticgs = OneVsRestClassifier(LogisticRegression(C=1.0, penalty='l2', solver='newton-cg')).fit(X_train,Y_train)\n",
    "hasillogisticgs = logisticgs.predict(X_test)\n",
    "\n",
    "# Gradient Boosting Decision Tree Classifier\n",
    "gbdtgs = OneVsRestClassifier(GradientBoostingClassifier(learning_rate=0.01, n_estimators=1000)).fit(X_train,Y_train)\n",
    "hasilgbdtgs = gbdtgs.predict(X_test)\n",
    "\n",
    "# Support Vector CLassifier\n",
    "svcgs = OneVsRestClassifier(LinearSVC(C=0.001)).fit(X_train,Y_train)\n",
    "hasilsvcgs = svcgs.predict(X_test)"
   ]
  },
  {
   "cell_type": "markdown",
   "metadata": {},
   "source": [
    "## K-fold Cross Validation"
   ]
  },
  {
   "cell_type": "code",
   "execution_count": 49,
   "metadata": {},
   "outputs": [
    {
     "name": "stdout",
     "output_type": "stream",
     "text": [
      "Baseline: 75.79% (9.76%)\n",
      "Baseline: 61.05% (5.37%)\n",
      "Baseline: 86.32% (2.58%)\n",
      "Baseline: 58.95% (6.98%)\n"
     ]
    }
   ],
   "source": [
    "kfold = KFold(n_splits=5, shuffle=True)\n",
    "results = cross_val_score(treegs, X_test,Y_test, cv=kfold)\n",
    "print(\"Baseline: %.2f%% (%.2f%%)\" % (results.mean()*100, results.std()*100))\n",
    "\n",
    "kfold = KFold(n_splits=5, shuffle=True)\n",
    "results = cross_val_score(logisticgs, X_test,Y_test, cv=kfold)\n",
    "print(\"Baseline: %.2f%% (%.2f%%)\" % (results.mean()*100, results.std()*100))\n",
    "\n",
    "kfold = KFold(n_splits=5, shuffle=True)\n",
    "results = cross_val_score(gbdtgs, X_test,Y_test, cv=kfold)\n",
    "print(\"Baseline: %.2f%% (%.2f%%)\" % (results.mean()*100, results.std()*100))\n",
    "\n",
    "kfold = KFold(n_splits=5, shuffle=True)\n",
    "results = cross_val_score(svcgs, X_test,Y_test, cv=kfold)\n",
    "print(\"Baseline: %.2f%% (%.2f%%)\" % (results.mean()*100, results.std()*100))"
   ]
  },
  {
   "cell_type": "markdown",
   "metadata": {},
   "source": [
    "## Akurasi"
   ]
  },
  {
   "cell_type": "code",
   "execution_count": 50,
   "metadata": {},
   "outputs": [],
   "source": [
    "acc = {'Decision Tree': np.mean(hasiltreegs == Y_test),'Logistics': np.mean(hasillogisticgs == Y_test), 'GBDT': np.mean(hasilgbdtgs == Y_test), 'SVC': np.mean(hasilsvcgs == Y_test)}"
   ]
  },
  {
   "cell_type": "code",
   "execution_count": 52,
   "metadata": {},
   "outputs": [
    {
     "data": {
      "text/plain": [
       "{'Decision Tree': 0.8736842105263158,\n",
       " 'Logistics': 0.9157894736842105,\n",
       " 'GBDT': 0.9263157894736842,\n",
       " 'SVC': 0.7052631578947368}"
      ]
     },
     "execution_count": 52,
     "metadata": {},
     "output_type": "execute_result"
    }
   ],
   "source": [
    "acc"
   ]
  },
  {
   "cell_type": "markdown",
   "metadata": {},
   "source": [
    "# Dengan Random Search"
   ]
  },
  {
   "cell_type": "code",
   "execution_count": 56,
   "metadata": {},
   "outputs": [
    {
     "data": {
      "text/plain": [
       "RandomizedSearchCV(estimator=LinearSVC(),\n",
       "                   param_distributions=[{'C': [100, 10, 1.0, 0.1, 0.001]}],\n",
       "                   scoring='accuracy')"
      ]
     },
     "execution_count": 56,
     "metadata": {},
     "output_type": "execute_result"
    }
   ],
   "source": [
    "# Decision Tree Classifier\n",
    "rs1 = RandomizedSearchCV(tree.DecisionTreeClassifier(), paramtree, scoring='accuracy')\n",
    "rs1.fit(X_train, Y_train)\n",
    "\n",
    "# Logistics Regression Classifier\n",
    "rs2 = RandomizedSearchCV(LogisticRegression(), paramlr, scoring='accuracy')\n",
    "rs2.fit(X_train, Y_train)\n",
    "\n",
    "# Gradient Boosting Decision Tree Classifier\n",
    "rs3 = RandomizedSearchCV(GradientBoostingClassifier(), paramgbdt, scoring='accuracy')\n",
    "rs3.fit(X_train, Y_train)\n",
    "\n",
    "# Support Vector CLassifier\n",
    "rs4 = RandomizedSearchCV(LinearSVC(), paramsvc, scoring='accuracy')\n",
    "rs4.fit(X_train, Y_train)"
   ]
  },
  {
   "cell_type": "markdown",
   "metadata": {},
   "source": [
    "## Parameter Terbaik"
   ]
  },
  {
   "cell_type": "code",
   "execution_count": null,
   "metadata": {},
   "outputs": [],
   "source": [
    "print(rs1.best_params_)\n",
    "print(rs2.best_params_)\n",
    "print(rs3.best_params_)\n",
    "print(rs4.best_params_)"
   ]
  },
  {
   "cell_type": "code",
   "execution_count": null,
   "metadata": {},
   "outputs": [],
   "source": [
    "# Decision Tree Classifier\n",
    "treers = OneVsRestClassifier(tree.DecisionTreeClassifier(criterion='entropy', max_depth=20)).fit(X_train,Y_train)\n",
    "hasiltreers = treers.predict(X_test)\n",
    "\n",
    "# Logistics Regression Classifier\n",
    "logisticrs = OneVsRestClassifier(LogisticRegression(C=1.0, penalty='l2', solver='newton-cg')).fit(X_train,Y_train)\n",
    "hasillogisticrs = logisticrs.predict(X_test)\n",
    "\n",
    "# Gradient Boosting Decision Tree Classifier\n",
    "gbdtrs = OneVsRestClassifier(GradientBoostingClassifier(learning_rate=0.01, n_estimators=1000)).fit(X_train,Y_train)\n",
    "hasilgbdtrs = gbdtrs.predict(X_test)\n",
    "\n",
    "# Support Vector CLassifier\n",
    "svcrs = OneVsRestClassifier(LinearSVC(C=0.001)).fit(X_train,Y_train)\n",
    "hasilsvcrs = svcrs.predict(X_test)"
   ]
  },
  {
   "cell_type": "code",
   "execution_count": null,
   "metadata": {},
   "outputs": [],
   "source": []
  }
 ],
 "metadata": {
  "kernelspec": {
   "display_name": "Python 3 (ipykernel)",
   "language": "python",
   "name": "python3"
  },
  "language_info": {
   "codemirror_mode": {
    "name": "ipython",
    "version": 3
   },
   "file_extension": ".py",
   "mimetype": "text/x-python",
   "name": "python",
   "nbconvert_exporter": "python",
   "pygments_lexer": "ipython3",
   "version": "3.8.5"
  }
 },
 "nbformat": 4,
 "nbformat_minor": 2
}
