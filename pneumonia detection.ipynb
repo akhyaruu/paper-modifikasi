{
 "cells": [
  {
   "cell_type": "code",
   "execution_count": 1,
   "metadata": {},
   "outputs": [],
   "source": [
    "# read in the necessary packages\n",
    "import pandas as pd\n",
    "import numpy as np\n",
    "from sklearn.multiclass import OneVsRestClassifier\n",
    "from sklearn.svm import LinearSVC\n",
    "from sklearn import tree\n",
    "from sklearn.linear_model import LogisticRegression\n",
    "from sklearn.ensemble import GradientBoostingClassifier\n",
    "from sklearn.model_selection import train_test_split\n",
    "from sklearn.metrics import precision_recall_fscore_support\n",
    "from sklearn.metrics import accuracy_score\n"
   ]
  },
  {
   "cell_type": "code",
   "execution_count": 2,
   "metadata": {},
   "outputs": [],
   "source": [
    "import warnings\n",
    "warnings.filterwarnings('ignore')"
   ]
  },
  {
   "cell_type": "code",
   "execution_count": 3,
   "metadata": {
    "tags": []
   },
   "outputs": [],
   "source": [
    "# read in the dataset\n",
    "dataset = pd.read_excel('dataset2.xlsx',converters={'Medical result（0 No；1 mild；2 severe）':int})\n",
    "\n",
    "# fill in the missing value with 0\n",
    "col_set = dataset.columns\n",
    "for column in col_set :\n",
    "    dataset[column].fillna(0, inplace = True)\n",
    "\n",
    "# split the target variable and trainning features\n",
    "X = dataset.iloc[:,:-1]\n",
    "y = dataset['Medical result（0 No；1 mild；2 severe）']\n",
    "X_train, X_test, Y_train, Y_test = train_test_split(X, y, test_size=0.1, random_state=1)"
   ]
  },
  {
   "cell_type": "code",
   "execution_count": 4,
   "metadata": {},
   "outputs": [],
   "source": [
    "# Decision Tree Classifier\n",
    "model_tree = OneVsRestClassifier(tree.DecisionTreeClassifier()).fit(X_train,Y_train)\n",
    "y_predict_tree = model_tree.predict(X_test)\n",
    "\n",
    "# Logistics Regression Classifier\n",
    "model_logistic = OneVsRestClassifier(LogisticRegression(penalty='l2')).fit(X_train,Y_train)\n",
    "y_predict_logistic = model_logistic.predict(X_test)\n",
    "\n",
    "# Gradient Boosting Decision Tree Classifier\n",
    "model_GBDT = OneVsRestClassifier(GradientBoostingClassifier(n_estimators=300)).fit(X_train,Y_train)\n",
    "y_predict_GBDT = model_GBDT.predict(X_test)\n",
    "\n",
    "# Support Vector CLassifier\n",
    "model_SVC = OneVsRestClassifier(LinearSVC(random_state = 0)).fit(X_train,Y_train)\n",
    "y_predict_SVC = model_SVC.predict(X_test)\n"
   ]
  },
  {
   "cell_type": "code",
   "execution_count": 5,
   "metadata": {},
   "outputs": [
    {
     "data": {
      "text/plain": [
       "0.6105263157894737"
      ]
     },
     "execution_count": 5,
     "metadata": {},
     "output_type": "execute_result"
    }
   ],
   "source": [
    "from sklearn.neighbors import KNeighborsClassifier\n",
    "\n",
    "model_knn =OneVsRestClassifier(KNeighborsClassifier())\n",
    "y_predict_knn = model_knn.fit(X_train,Y_train).predict(X_test)\n",
    "\n",
    "np.mean(y_predict_knn==Y_test)"
   ]
  },
  {
   "cell_type": "code",
   "execution_count": 6,
   "metadata": {},
   "outputs": [
    {
     "data": {
      "text/plain": [
       "(array([0.86363636, 0.94642857, 1.        ]),\n",
       " array([0.95      , 0.94642857, 0.89473684]),\n",
       " array([0.9047619 , 0.94642857, 0.94444444]),\n",
       " array([20, 56, 19], dtype=int64))"
      ]
     },
     "execution_count": 6,
     "metadata": {},
     "output_type": "execute_result"
    }
   ],
   "source": [
    "\n",
    "precision_recall_fscore_support(Y_test, y_predict_GBDT, average=None)"
   ]
  },
  {
   "cell_type": "code",
   "execution_count": 7,
   "metadata": {},
   "outputs": [
    {
     "data": {
      "text/plain": [
       "(array([0.875     , 0.63855422, 0.5       ]),\n",
       " array([0.35      , 0.94642857, 0.10526316]),\n",
       " array([0.5       , 0.76258993, 0.17391304]),\n",
       " array([20, 56, 19], dtype=int64))"
      ]
     },
     "execution_count": 7,
     "metadata": {},
     "output_type": "execute_result"
    }
   ],
   "source": [
    "\n",
    "precision_recall_fscore_support(Y_test, y_predict_SVC, average=None)"
   ]
  },
  {
   "cell_type": "code",
   "execution_count": 8,
   "metadata": {},
   "outputs": [
    {
     "data": {
      "text/plain": [
       "(array([0.88235294, 0.90740741, 0.75      ]),\n",
       " array([0.75      , 0.875     , 0.94736842]),\n",
       " array([0.81081081, 0.89090909, 0.8372093 ]),\n",
       " array([20, 56, 19], dtype=int64))"
      ]
     },
     "execution_count": 8,
     "metadata": {},
     "output_type": "execute_result"
    }
   ],
   "source": [
    "\n",
    "precision_recall_fscore_support(Y_test, y_predict_tree, average=None)"
   ]
  },
  {
   "cell_type": "code",
   "execution_count": 9,
   "metadata": {},
   "outputs": [
    {
     "data": {
      "text/plain": [
       "(array([0.6875    , 0.70422535, 0.625     ]),\n",
       " array([0.55      , 0.89285714, 0.26315789]),\n",
       " array([0.61111111, 0.78740157, 0.37037037]),\n",
       " array([20, 56, 19], dtype=int64))"
      ]
     },
     "execution_count": 9,
     "metadata": {},
     "output_type": "execute_result"
    }
   ],
   "source": [
    "\n",
    "precision_recall_fscore_support(Y_test, y_predict_logistic, average=None)"
   ]
  },
  {
   "cell_type": "code",
   "execution_count": 10,
   "metadata": {},
   "outputs": [
    {
     "data": {
      "text/plain": [
       "(array([0.55555556, 0.64864865, 0.41666667]),\n",
       " array([0.25      , 0.85714286, 0.26315789]),\n",
       " array([0.34482759, 0.73846154, 0.32258065]),\n",
       " array([20, 56, 19], dtype=int64))"
      ]
     },
     "execution_count": 10,
     "metadata": {},
     "output_type": "execute_result"
    }
   ],
   "source": [
    "\n",
    "from sklearn.metrics import precision_recall_fscore_support\n",
    "from sklearn.metrics import accuracy_score\n",
    "precision_recall_fscore_support(Y_test, y_predict_knn, average=None)"
   ]
  },
  {
   "cell_type": "code",
   "execution_count": 11,
   "metadata": {},
   "outputs": [],
   "source": [
    "# prediction accuracy -\n",
    "acc = {'Decision Tree': np.mean(y_predict_tree == Y_test),'Logistics': np.mean(y_predict_logistic == Y_test), 'GBDT': np.mean(y_predict_GBDT == Y_test), 'SVC': np.mean(y_predict_SVC == Y_test)}"
   ]
  },
  {
   "cell_type": "code",
   "execution_count": 12,
   "metadata": {},
   "outputs": [
    {
     "data": {
      "text/plain": [
       "{'Decision Tree': 0.8631578947368421,\n",
       " 'Logistics': 0.6947368421052632,\n",
       " 'GBDT': 0.9368421052631579,\n",
       " 'SVC': 0.6526315789473685}"
      ]
     },
     "execution_count": 12,
     "metadata": {},
     "output_type": "execute_result"
    }
   ],
   "source": [
    "acc"
   ]
  },
  {
   "cell_type": "code",
   "execution_count": 13,
   "metadata": {},
   "outputs": [
    {
     "name": "stdout",
     "output_type": "stream",
     "text": [
      "Baseline: 88.42% (3.94%)\n"
     ]
    }
   ],
   "source": [
    "from sklearn.model_selection import cross_val_score\n",
    "from sklearn.model_selection import KFold\n",
    "# evaluate the model with K-fold cross validation\n",
    "kfold = KFold(n_splits=5, shuffle=True)\n",
    "results = cross_val_score(model_GBDT, X_test,Y_test, cv=kfold)\n",
    "print(\"Baseline: %.2f%% (%.2f%%)\" % (results.mean()*100, results.std()*100))"
   ]
  },
  {
   "cell_type": "code",
   "execution_count": 14,
   "metadata": {},
   "outputs": [
    {
     "name": "stdout",
     "output_type": "stream",
     "text": [
      "Baseline: 78.95% (8.81%)\n"
     ]
    }
   ],
   "source": [
    "from sklearn.model_selection import cross_val_score\n",
    "from sklearn.model_selection import KFold\n",
    "# evaluate the model with K-fold cross validation\n",
    "kfold = KFold(n_splits=5, shuffle=True)\n",
    "results = cross_val_score(model_tree, X_test,Y_test, cv=kfold)\n",
    "print(\"Baseline: %.2f%% (%.2f%%)\" % (results.mean()*100, results.std()*100))"
   ]
  },
  {
   "cell_type": "code",
   "execution_count": 15,
   "metadata": {},
   "outputs": [
    {
     "name": "stdout",
     "output_type": "stream",
     "text": [
      "Baseline: 51.58% (21.68%)\n"
     ]
    }
   ],
   "source": [
    "from sklearn.model_selection import cross_val_score\n",
    "from sklearn.model_selection import KFold\n",
    "# evaluate the model with K-fold cross validation\n",
    "kfold = KFold(n_splits=5, shuffle=True)\n",
    "results = cross_val_score(model_SVC, X_test,Y_test, cv=kfold)\n",
    "print(\"Baseline: %.2f%% (%.2f%%)\" % (results.mean()*100, results.std()*100))"
   ]
  },
  {
   "cell_type": "code",
   "execution_count": 16,
   "metadata": {},
   "outputs": [
    {
     "name": "stdout",
     "output_type": "stream",
     "text": [
      "Baseline: 65.26% (6.32%)\n"
     ]
    }
   ],
   "source": [
    "from sklearn.model_selection import cross_val_score\n",
    "from sklearn.model_selection import KFold\n",
    "# evaluate the model with K-fold cross validation\n",
    "kfold = KFold(n_splits=5, shuffle=True)\n",
    "results = cross_val_score(model_logistic, X_test,Y_test, cv=kfold)\n",
    "print(\"Baseline: %.2f%% (%.2f%%)\" % (results.mean()*100, results.std()*100))"
   ]
  },
  {
   "cell_type": "markdown",
   "metadata": {},
   "source": [
    "## Confusion Matrix"
   ]
  },
  {
   "cell_type": "code",
   "execution_count": 17,
   "metadata": {},
   "outputs": [],
   "source": [
    "# confusion matrix\n",
    "import matplotlib.pyplot as plt\n",
    "from sklearn.metrics import confusion_matrix\n",
    "import seaborn as sn\n",
    "cm_tree = confusion_matrix(Y_test, y_predict_tree, labels=[0,1,2])\n",
    "cm_logistic = confusion_matrix(Y_test, y_predict_logistic, labels=[0,1,2])\n",
    "cm_GBDT = confusion_matrix(Y_test, y_predict_GBDT, labels=[0,1,2])\n",
    "cm_SVC = confusion_matrix(Y_test, y_predict_SVC, labels=[0,1,2])"
   ]
  },
  {
   "cell_type": "code",
   "execution_count": 18,
   "metadata": {},
   "outputs": [
    {
     "data": {
      "image/png": "[encoded data removed]",
      "text/plain": [
       "<Figure size 720x504 with 2 Axes>"
      ]
     },
     "metadata": {
      "needs_background": "light"
     },
     "output_type": "display_data"
    }
   ],
   "source": [
    "# decision tree\n",
    "df_cm = pd.DataFrame(cm_tree, index = [i for i in \"012\"],\n",
    "                  columns = [i for i in \"012\"])\n",
    "plt.figure(figsize = (10,7))\n",
    "ax = sn.heatmap(df_cm, annot=True)\n",
    "bottom, top = ax.get_ylim()\n",
    "ax.set_ylim(bottom + 0.5, top - 0.5)\n",
    "plt.title('Confusion Matrix for Decision Tree Model')\n",
    "plt.ylabel('True')\n",
    "plt.xlabel('Predicted')\n",
    "plt.savefig('confusion_matrix_tree_150', dpi = 150)\n",
    "plt.savefig('confusion_matrix_tree_600', dpi = 600)\n",
    "plt.show()"
   ]
  },
  {
   "cell_type": "code",
   "execution_count": 19,
   "metadata": {},
   "outputs": [
    {
     "data": {
      "image/png": "[encoded data removed]",
      "text/plain": [
       "<Figure size 720x504 with 2 Axes>"
      ]
     },
     "metadata": {
      "needs_background": "light"
     },
     "output_type": "display_data"
    }
   ],
   "source": [
    "# logistic regression\n",
    "df_cm = pd.DataFrame(cm_logistic, index = [i for i in \"012\"],\n",
    "                  columns = [i for i in \"012\"])\n",
    "plt.figure(figsize = (10,7))\n",
    "ax = sn.heatmap(df_cm, annot=True)\n",
    "bottom, top = ax.get_ylim()\n",
    "ax.set_ylim(bottom + 0.5, top - 0.5)\n",
    "plt.title('Confusion Matrix for Logistic Regression')\n",
    "plt.ylabel('True')\n",
    "plt.xlabel('Predicted')\n",
    "plt.savefig('confusion_matrix_logistic_150', dpi = 150)\n",
    "plt.savefig('confusion_matrix_logistic_600', dpi = 600)\n",
    "plt.show()"
   ]
  },
  {
   "cell_type": "code",
   "execution_count": 20,
   "metadata": {},
   "outputs": [
    {
     "data": {
      "image/png": "[encoded data removed]",
      "text/plain": [
       "<Figure size 720x504 with 2 Axes>"
      ]
     },
     "metadata": {
      "needs_background": "light"
     },
     "output_type": "display_data"
    }
   ],
   "source": [
    "# GBDT\n",
    "df_cm = pd.DataFrame(cm_GBDT, index = [i for i in \"012\"],\n",
    "                  columns = [i for i in \"012\"])\n",
    "plt.figure(figsize = (10,7))\n",
    "ax = sn.heatmap(df_cm, annot=True)\n",
    "bottom, top = ax.get_ylim()\n",
    "ax.set_ylim(bottom + 0.5, top - 0.5)\n",
    "plt.title('Confusion Matrix for GBDT')\n",
    "plt.ylabel('True')\n",
    "plt.xlabel('Predicted')\n",
    "plt.savefig('confusion_matrix_GBDT_150', dpi = 150)\n",
    "plt.savefig('confusion_matrix_GBDT_600', dpi = 600)\n",
    "plt.show()"
   ]
  },
  {
   "cell_type": "code",
   "execution_count": 21,
   "metadata": {},
   "outputs": [
    {
     "data": {
      "image/png": "[encoded data removed]",
      "text/plain": [
       "<Figure size 720x504 with 2 Axes>"
      ]
     },
     "metadata": {
      "needs_background": "light"
     },
     "output_type": "display_data"
    }
   ],
   "source": [
    "# SVC\n",
    "df_cm = pd.DataFrame(cm_SVC, index = [i for i in \"012\"],\n",
    "                  columns = [i for i in \"012\"])\n",
    "plt.figure(figsize = (10,7))\n",
    "ax = sn.heatmap(df_cm, annot=True)\n",
    "bottom, top = ax.get_ylim()\n",
    "ax.set_ylim(bottom + 0.5, top - 0.5)\n",
    "plt.title('Confusion Matrix for SVC')\n",
    "plt.ylabel('True')\n",
    "plt.xlabel('Predicted')\n",
    "plt.savefig('confusion_matrix_SVC_150', dpi = 150)\n",
    "plt.savefig('confusion_matrix_SVC_600', dpi = 600)\n",
    "plt.show()"
   ]
  },
  {
   "cell_type": "markdown",
   "metadata": {},
   "source": [
    "## Feature Importance"
   ]
  },
  {
   "cell_type": "code",
   "execution_count": 22,
   "metadata": {},
   "outputs": [],
   "source": [
    "importances = model_tree.estimators_[1].feature_importances_\n",
    "std = np.std([tree.feature_importances_ for tree in model_tree.estimators_],\n",
    "             axis=0)\n",
    "importance_map = {'importance': importances, 'standard deviation': std}\n",
    "importance_df = pd.DataFrame(importance_map, columns = ['importance', 'standard deviation'], index = X.columns)\n",
    "importance_df = importance_df.sort_values('importance', ascending= False)"
   ]
  },
  {
   "cell_type": "code",
   "execution_count": 23,
   "metadata": {},
   "outputs": [
    {
     "data": {
      "text/html": [
       "<div>\n",
       "<style scoped>\n",
       "    .dataframe tbody tr th:only-of-type {\n",
       "        vertical-align: middle;\n",
       "    }\n",
       "\n",
       "    .dataframe tbody tr th {\n",
       "        vertical-align: top;\n",
       "    }\n",
       "\n",
       "    .dataframe thead th {\n",
       "        text-align: right;\n",
       "    }\n",
       "</style>\n",
       "<table border=\"1\" class=\"dataframe\">\n",
       "  <thead>\n",
       "    <tr style=\"text-align: right;\">\n",
       "      <th></th>\n",
       "      <th>importance</th>\n",
       "      <th>standard deviation</th>\n",
       "    </tr>\n",
       "  </thead>\n",
       "  <tbody>\n",
       "    <tr>\n",
       "      <th>Three Concave Sign（&lt;=1/3 is mild；1：multiple lobar involvement are severe）：1 mild；2 severe</th>\n",
       "      <td>0.560946</td>\n",
       "      <td>0.116145</td>\n",
       "    </tr>\n",
       "    <tr>\n",
       "      <th>Cough Nature：0 without cough；1dry cough；2 phlegmy cough</th>\n",
       "      <td>0.078311</td>\n",
       "      <td>0.049331</td>\n",
       "    </tr>\n",
       "    <tr>\n",
       "      <th>Pleural Effusion：0 NO；1YES</th>\n",
       "      <td>0.048932</td>\n",
       "      <td>0.036299</td>\n",
       "    </tr>\n",
       "    <tr>\n",
       "      <th>Rhonchus or Wheeze：0 NO；1Left；2 right；3 two sides</th>\n",
       "      <td>0.043125</td>\n",
       "      <td>0.023302</td>\n",
       "    </tr>\n",
       "    <tr>\n",
       "      <th>Moist Crackles：0 NO；1 Left；2 Right；3 Two sides</th>\n",
       "      <td>0.041961</td>\n",
       "      <td>0.024728</td>\n",
       "    </tr>\n",
       "  </tbody>\n",
       "</table>\n",
       "</div>"
      ],
      "text/plain": [
       "                                                    importance  \\\n",
       "Three Concave Sign（<=1/3 is mild；1：multiple lob...    0.560946   \n",
       "Cough Nature：0 without cough；1dry cough；2 phleg...    0.078311   \n",
       "Pleural Effusion：0 NO；1YES                            0.048932   \n",
       "Rhonchus or Wheeze：0 NO；1Left；2 right；3 two sides     0.043125   \n",
       "Moist Crackles：0 NO；1 Left；2 Right；3 Two sides        0.041961   \n",
       "\n",
       "                                                    standard deviation  \n",
       "Three Concave Sign（<=1/3 is mild；1：multiple lob...            0.116145  \n",
       "Cough Nature：0 without cough；1dry cough；2 phleg...            0.049331  \n",
       "Pleural Effusion：0 NO；1YES                                    0.036299  \n",
       "Rhonchus or Wheeze：0 NO；1Left；2 right；3 two sides             0.023302  \n",
       "Moist Crackles：0 NO；1 Left；2 Right；3 Two sides                0.024728  "
      ]
     },
     "execution_count": 23,
     "metadata": {},
     "output_type": "execute_result"
    }
   ],
   "source": [
    "importance_df.head()"
   ]
  },
  {
   "cell_type": "code",
   "execution_count": 24,
   "metadata": {},
   "outputs": [],
   "source": [
    "importances = model_GBDT.estimators_[1].feature_importances_\n",
    "std = np.std([tree.feature_importances_ for tree in model_GBDT.estimators_],\n",
    "             axis=0)\n",
    "importance_map = {'importance': importances, 'standard deviation': std}\n",
    "importance_df = pd.DataFrame(importance_map, columns = ['importance', 'standard deviation'], index = X.columns)\n",
    "importance_df = importance_df.sort_values('importance', ascending= False)"
   ]
  },
  {
   "cell_type": "code",
   "execution_count": 25,
   "metadata": {},
   "outputs": [
    {
     "data": {
      "text/html": [
       "<div>\n",
       "<style scoped>\n",
       "    .dataframe tbody tr th:only-of-type {\n",
       "        vertical-align: middle;\n",
       "    }\n",
       "\n",
       "    .dataframe tbody tr th {\n",
       "        vertical-align: top;\n",
       "    }\n",
       "\n",
       "    .dataframe thead th {\n",
       "        text-align: right;\n",
       "    }\n",
       "</style>\n",
       "<table border=\"1\" class=\"dataframe\">\n",
       "  <thead>\n",
       "    <tr style=\"text-align: right;\">\n",
       "      <th></th>\n",
       "      <th>importance</th>\n",
       "      <th>standard deviation</th>\n",
       "    </tr>\n",
       "  </thead>\n",
       "  <tbody>\n",
       "    <tr>\n",
       "      <th>Three Concave Sign（&lt;=1/3 is mild；1：multiple lobar involvement are severe）：1 mild；2 severe</th>\n",
       "      <td>0.590596</td>\n",
       "      <td>0.096790</td>\n",
       "    </tr>\n",
       "    <tr>\n",
       "      <th>Cough Nature：0 without cough；1dry cough；2 phlegmy cough</th>\n",
       "      <td>0.095959</td>\n",
       "      <td>0.053138</td>\n",
       "    </tr>\n",
       "    <tr>\n",
       "      <th>Pleural Effusion：0 NO；1YES</th>\n",
       "      <td>0.049674</td>\n",
       "      <td>0.036571</td>\n",
       "    </tr>\n",
       "    <tr>\n",
       "      <th>Rhonchus or Wheeze：0 NO；1Left；2 right；3 two sides</th>\n",
       "      <td>0.045500</td>\n",
       "      <td>0.025106</td>\n",
       "    </tr>\n",
       "    <tr>\n",
       "      <th>Moist Crackles：0 NO；1 Left；2 Right；3 Two sides</th>\n",
       "      <td>0.038632</td>\n",
       "      <td>0.027006</td>\n",
       "    </tr>\n",
       "  </tbody>\n",
       "</table>\n",
       "</div>"
      ],
      "text/plain": [
       "                                                    importance  \\\n",
       "Three Concave Sign（<=1/3 is mild；1：multiple lob...    0.590596   \n",
       "Cough Nature：0 without cough；1dry cough；2 phleg...    0.095959   \n",
       "Pleural Effusion：0 NO；1YES                            0.049674   \n",
       "Rhonchus or Wheeze：0 NO；1Left；2 right；3 two sides     0.045500   \n",
       "Moist Crackles：0 NO；1 Left；2 Right；3 Two sides        0.038632   \n",
       "\n",
       "                                                    standard deviation  \n",
       "Three Concave Sign（<=1/3 is mild；1：multiple lob...            0.096790  \n",
       "Cough Nature：0 without cough；1dry cough；2 phleg...            0.053138  \n",
       "Pleural Effusion：0 NO；1YES                                    0.036571  \n",
       "Rhonchus or Wheeze：0 NO；1Left；2 right；3 two sides             0.025106  \n",
       "Moist Crackles：0 NO；1 Left；2 Right；3 Two sides                0.027006  "
      ]
     },
     "execution_count": 25,
     "metadata": {},
     "output_type": "execute_result"
    }
   ],
   "source": [
    "importance_df.head()"
   ]
  }
 ],
 "metadata": {
  "kernelspec": {
   "display_name": "Python 3 (ipykernel)",
   "language": "python",
   "name": "python3"
  },
  "language_info": {
   "codemirror_mode": {
    "name": "ipython",
    "version": 3
   },
   "file_extension": ".py",
   "mimetype": "text/x-python",
   "name": "python",
   "nbconvert_exporter": "python",
   "pygments_lexer": "ipython3",
   "version": "3.8.5"
  }
 },
 "nbformat": 4,
 "nbformat_minor": 2
}
